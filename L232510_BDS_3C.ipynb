{
  "nbformat": 4,
  "nbformat_minor": 0,
  "metadata": {
    "colab": {
      "provenance": []
    },
    "kernelspec": {
      "name": "python3",
      "display_name": "Python 3"
    },
    "language_info": {
      "name": "python"
    }
  },
  "cells": [
    {
      "cell_type": "code",
      "source": [
        "import requests\n",
        "from bs4 import BeautifulSoup\n",
        "import pandas as pd"
      ],
      "metadata": {
        "collapsed": true,
        "id": "pYeMIpa70j54"
      },
      "execution_count": null,
      "outputs": []
    },
    {
      "cell_type": "code",
      "source": [
        "url = \"https://lhr.nu.edu.pk/faculty/\"\n",
        "site = requests.get(url)\n",
        "soup = BeautifulSoup(site.content, \"html.parser\")"
      ],
      "metadata": {
        "id": "wQo-JyQg6o_j"
      },
      "execution_count": null,
      "outputs": []
    },
    {
      "cell_type": "code",
      "source": [
        "id = [\"fsc\",\"ee\",\"cv\",\"fsm\",\"ss\"] #Id of all departments from html of site\n",
        "for i in id: #loop for each department\n",
        "  data = soup.find(\"div\", id = i)\n",
        "\n",
        "  fac_name = data.find_all(\"h5\", \"text-center\")# Names of Faculty Members\n",
        "  names = [name.text for name in fac_name]\n",
        "\n",
        "  fac_email = data.find_all(\"p\", \"mb-0 text-center\")# Emails of Faculty Members\n",
        "  emails = [email.text for email in fac_email]\n",
        "\n",
        "  fac_des = data.find_all(\"p\", \"small text-center font-italic\") # To get Designation and if faculty member is HEC supervised or not\n",
        "  des = [des.text.strip().split('\\n')[0] for des in fac_des]\n",
        "  HEC = [True if (des.find('br')) else False for des in fac_des]\n",
        "\n",
        "  fac_img = data.find_all(\"img\")# Location of Faculty Member Image\n",
        "  img = [img['src'] for img in fac_img]\n",
        "\n",
        "  fac_department = data.find('h1', \"mb-2 mt-3\").text #Department\n",
        "\n",
        "  fac_id = data.find_all(\"a\",\"faculty-link\")# Geting the ID of Facuty Member\n",
        "  id = [link.get(\"href\").split('/')[3] for link in fac_id]\n",
        "\n",
        "  #Creating the Data frame which includes all featues of faculty members of specific department\n",
        "  Dep_fac_data = pd.DataFrame({'ID': id,\n",
        "                      'Name': names,\n",
        "                      'Designation': des,\n",
        "                      'HEC': HEC,\n",
        "                      'Department': fac_department,\n",
        "                      'Email': emails,\n",
        "                      'Image': img})\n",
        "  #String data in csv format with id of Department\n",
        "  Dep_fac_data.to_csv(i+'.csv', index=False)"
      ],
      "metadata": {
        "collapsed": true,
        "id": "VbeN_26S-cMv"
      },
      "execution_count": null,
      "outputs": []
    },
    {
      "cell_type": "code",
      "source": [
        "id = [\"fsc\",\"ee\",\"cv\",\"fsm\",\"ss\"]\n",
        "for i in id:#loop for each department\n",
        "  data = pd.read_csv(i+'.csv')\n",
        "  IDs = data['ID']#Geting the ID to visit page of each faculty member indvidually\n",
        "  links = [\"https://lhr.nu.edu.pk/fsc/facultyProfile/\"+str(Id) for Id in IDs]#Creating list of links of all faculty members of specific department\n",
        "  fac_Edu = []\n",
        "  fac_Ext = []\n",
        "  for link in links:\n",
        "    fac_d = requests.get(link)\n",
        "    fac_cont = BeautifulSoup(fac_d.content, \"html.parser\")#Getting the content of faculty members page\n",
        "\n",
        "    edu_div = fac_cont.find(\"div\", class_=\"col-lg-8 col-md-6 col-sm-12 text-justify\")#Highest Education\n",
        "    if edu_div:\n",
        "        edu_item = edu_div.find(\"li\")\n",
        "        fac_Edu.append(edu_item.text.strip() if edu_item else \"NA\")\n",
        "    else:\n",
        "        fac_Edu.append(\"NA\")\n",
        "\n",
        "    fac_Ext.append(fac_cont.find(\"span\",\"small\").text.split(\":\")[1] if fac_cont.find(\"span\",\"small\") else \"NA\")#Extenstion of Faculty Member\n",
        "  Fac_data = pd.DataFrame({'ID':IDs, 'Extention':fac_Ext, 'Highest Education':fac_Edu})#Creating Data Frame of Data of all faculty members of specific department\n",
        "  Fac_data.to_csv(i+'2.csv', index=False)#Storing data with department ID"
      ],
      "metadata": {
        "id": "5xl4USY-dH3k"
      },
      "execution_count": null,
      "outputs": []
    },
    {
      "cell_type": "code",
      "source": [
        "\n",
        "Data = {}#Data of csv files containing Name,Email etc.\n",
        "for i in id:\n",
        "  data = pd.read_csv(i+'.csv')\n",
        "  Data[i] = data\n",
        "\n",
        "Data2 = {}#Data of csv files containing Extention and Education etc.\n",
        "for i in id:\n",
        "  data = pd.read_csv(i+'2.csv')\n",
        "  Data2[i] = data\n",
        "\n",
        "for i in Data:# Merging Data on basis of ID\n",
        "  Data[i] = pd.merge(Data[i], Data2[i], on='ID', how='left')\n",
        "\n",
        "Faculty_Data = pd.concat(Data.values(), ignore_index=True)#Creating a Dataframe which contain information of all departments of FAST NUCES Lahore\n",
        "Faculty_Data.to_csv('fast_lahore_faculty.csv', index=False)"
      ],
      "metadata": {
        "id": "jxlExnK_iKKb"
      },
      "execution_count": null,
      "outputs": []
    }
  ]
}